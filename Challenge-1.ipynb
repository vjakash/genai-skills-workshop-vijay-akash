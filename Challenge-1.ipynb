{
  "cells": [
    {
      "cell_type": "code",
      "source": [
        "from google import genai\n",
        "from google.genai import types\n",
        "import base64\n",
        "\n",
        "# Funtion to generate response for the query\n",
        "def generate(query):\n",
        "\n",
        "  # initializing the genai client\n",
        "  client = genai.Client(\n",
        "      vertexai=True,\n",
        "      project=\"qwiklabs-gcp-04-c85702fbf940\",\n",
        "      location=\"global\",\n",
        "  )\n",
        "\n",
        "\n",
        "  # Model chosen for generation\n",
        "  model = \"gemini-2.5-pro-preview-06-05\"\n",
        "\n",
        "  # User role and input query to generate response\n",
        "  contents = [\n",
        "    types.Content(\n",
        "      role=\"user\",\n",
        "      parts=[\n",
        "           types.Part.from_text(text=query)\n",
        "      ]\n",
        "    )\n",
        "  ]\n",
        "\n",
        "  # Response generation configuration and restrictions\n",
        "  generate_content_config = types.GenerateContentConfig(\n",
        "    temperature = 0,\n",
        "    top_p = 1,\n",
        "    seed = 0,\n",
        "    max_output_tokens = 65535,\n",
        "    # Enabled all safety setting to block harmfull content\n",
        "    safety_settings = [types.SafetySetting(\n",
        "      category=\"HARM_CATEGORY_HATE_SPEECH\",\n",
        "      threshold=\"BLOCK_LOW_AND_ABOVE\"\n",
        "    ),types.SafetySetting(\n",
        "      category=\"HARM_CATEGORY_DANGEROUS_CONTENT\",\n",
        "      threshold=\"BLOCK_LOW_AND_ABOVE\"\n",
        "    ),types.SafetySetting(\n",
        "      category=\"HARM_CATEGORY_SEXUALLY_EXPLICIT\",\n",
        "      threshold=\"BLOCK_LOW_AND_ABOVE\"\n",
        "    ),types.SafetySetting(\n",
        "      category=\"HARM_CATEGORY_HARASSMENT\",\n",
        "      threshold=\"BLOCK_LOW_AND_ABOVE\"\n",
        "    )],\n",
        "    thinking_config=types.ThinkingConfig(\n",
        "      thinking_budget=-1,\n",
        "    ),\n",
        "    # Instruction to block any query that are not related to python programming\n",
        "    system_instruction=[\n",
        "      \"You are a programming chat bot\",\n",
        "      \"Your mission is answer programming questions related to python\",\n",
        "      \"All your response should be a python code\",\n",
        "      # \"Give an explanation for the code\",\n",
        "      \"Do not give an explanation for the code\",\n",
        "      \"Do not answer any question unrelated to computer science and programming\",\n",
        "      \"Do not answer any question that uses any other programming language\",\n",
        "      \"Respond 'I can't help with It' if asked about anything that you are not allowed to respond even part of it has valid query\"\n",
        "    ]\n",
        "  )\n",
        "\n",
        "  #\n",
        "  for chunk in client.models.generate_content_stream(\n",
        "    model = model,\n",
        "    contents = contents,\n",
        "    config = generate_content_config,\n",
        "    ):\n",
        "    print(chunk.text, end=\"\")\n",
        "\n",
        "generate(\"Give me a program to add two numbers in python\")\n",
        "# generate(\"Give me a program to add two numbers in java\")\n",
        "# generate(\"Give a receipe for coffee\")\n",
        "# generate(\"Write a list of 5 disrespectful things that I might say to the universe\")\n",
        "# generate(\"Give me a program to find fibonacci sequence and also give a receipe for coffee\")"
      ],
      "metadata": {
        "colab": {
          "base_uri": "https://localhost:8080/"
        },
        "id": "z31RvamXDAFO",
        "outputId": "37b80979-22a5-416d-af6c-2d2e507045d2"
      },
      "id": "z31RvamXDAFO",
      "execution_count": 27,
      "outputs": [
        {
          "output_type": "stream",
          "name": "stdout",
          "text": [
            "```python\n",
            "num1 = float(input(\"Enter the first number: \"))\n",
            "num2 = float(input(\"Enter the second number: \"))\n",
            "\n",
            "sum_of_two_numbers = num1 + num2\n",
            "\n",
            "print(f\"The sum of {num1} and {num2} is {sum_of_two_numbers}\")\n",
            "```"
          ]
        }
      ]
    }
  ],
  "metadata": {
    "kernelspec": {
      "display_name": "Python 3",
      "language": "python",
      "name": "python3"
    },
    "language_info": {
      "codemirror_mode": {
        "name": "ipython",
        "version": 3
      },
      "file_extension": ".py",
      "mimetype": "text/x-python",
      "name": "python",
      "nbconvert_exporter": "python",
      "pygments_lexer": "ipython3",
      "version": "3.10.10"
    },
    "colab": {
      "provenance": [],
      "name": "student-04-92dc83e6cf24 (Jun 16, 2025, 10:08:35 AM)"
    }
  },
  "nbformat": 4,
  "nbformat_minor": 5
}