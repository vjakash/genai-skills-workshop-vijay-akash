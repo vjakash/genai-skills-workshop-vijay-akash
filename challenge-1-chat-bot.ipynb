{
  "cells": [
    {
      "cell_type": "code",
      "id": "4t9wlVGCXNrwI8wCuUlApTWj",
      "metadata": {
        "tags": [],
        "id": "4t9wlVGCXNrwI8wCuUlApTWj"
      },
      "source": [
        "!pip install --upgrade google-cloud-aiplatform"
      ],
      "execution_count": null,
      "outputs": []
    },
    {
      "cell_type": "code",
      "source": [
        "from google.cloud import aiplatform\n",
        "from vertexai.preview.generative_models import GenerativeModel, ChatSession, SafetySetting\n",
        "\n",
        "aiplatform.init(\n",
        "    project=\"qwiklabs-gcp-04-c85702fbf940\",\n",
        "    location=\"us-east4\"\n",
        ")\n",
        "\n",
        "system_instruction = \"\"\"\n",
        "ROLE:\n",
        "You are a programming chat bot\n",
        "\n",
        "TASK:\n",
        "Generate code in python\n",
        "\n",
        "INSTRUCTIONS:\n",
        "- Do not give an explanation for the code.\n",
        "- Do not answer any question unrelated to computer science and programming\n",
        "- Do not answer any question that uses any other programming languag.\n",
        "- Respond 'I can't help with It' if asked about anything that you are not allowed to respond even part of it has valid query\n",
        "\"\"\"\n",
        "\n",
        "model = GenerativeModel(\n",
        "    model_name=\"gemini-2.0-flash-001\",\n",
        "    system_instruction=system_instruction,\n",
        "    safety_settings=[\n",
        "        SafetySetting(category=\"HARM_CATEGORY_HARASSMENT\", threshold=\"BLOCK_LOW_AND_ABOVE\"),\n",
        "        SafetySetting(category=\"HARM_CATEGORY_HATE_SPEECH\", threshold=\"BLOCK_LOW_AND_ABOVE\"),\n",
        "        SafetySetting(category=\"HARM_CATEGORY_DANGEROUS_CONTENT\", threshold=\"BLOCK_LOW_AND_ABOVE\"),\n",
        "        SafetySetting(category=\"HARM_CATEGORY_SEXUALLY_EXPLICIT\", threshold=\"BLOCK_LOW_AND_ABOVE\"),\n",
        "    ]\n",
        ")\n",
        "chat = model.start_chat()\n",
        "def chat_bot(prompt):\n",
        "    code = chat.send_message(prompt)\n",
        "    return code.text\n",
        "def chat_user():\n",
        "    while True:\n",
        "        prompt = input(\"User: \")\n",
        "        if prompt.lower() in [\"exit\", \"quit\"]:\n",
        "            print(\"Chat closed.\")\n",
        "            break\n",
        "        print(\"Python assistant:\", chat_bot(prompt))\n",
        "\n",
        "chat_user()"
      ],
      "metadata": {
        "id": "OMU3HLZ4UWeP"
      },
      "id": "OMU3HLZ4UWeP",
      "execution_count": 2,
      "outputs": []
    }
  ],
  "metadata": {
    "kernelspec": {
      "display_name": "Python 3",
      "language": "python",
      "name": "python3"
    },
    "language_info": {
      "codemirror_mode": {
        "name": "ipython",
        "version": 3
      },
      "file_extension": ".py",
      "mimetype": "text/x-python",
      "name": "python",
      "nbconvert_exporter": "python",
      "pygments_lexer": "ipython3",
      "version": "3.10.10"
    },
    "colab": {
      "provenance": [],
      "name": "student-04-92dc83e6cf24 (Jun 16, 2025, 11:28:15 AM)"
    }
  },
  "nbformat": 4,
  "nbformat_minor": 5
}